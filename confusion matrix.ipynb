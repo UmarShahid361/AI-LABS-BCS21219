{
 "cells": [
  {
   "cell_type": "code",
   "execution_count": 1,
   "id": "2abbb845-90e3-41f0-9ee6-45cc4cdd9600",
   "metadata": {},
   "outputs": [
    {
     "name": "stdout",
     "output_type": "stream",
     "text": [
      "First few rows of the dataset:\n",
      "  Alternate  Bar Fri/Sat Hungry Patrons Price Raining Reservation     Type  \\\n",
      "0       Yes   No      No    Yes     NaN   $$$      No         Yes   French   \n",
      "1        No  Yes     Yes    Yes    Some     $      No          No     Thai   \n",
      "2       Yes   No      No     No    Full    $$     Yes         Yes   Burger   \n",
      "3       Yes   No     Yes    Yes    Full   $$$      No          No  Italian   \n",
      "4        No  Yes      No     No    Some     $     Yes         Yes   Burger   \n",
      "\n",
      "  WaitEstimate Wait  \n",
      "0         0-10   No  \n",
      "1        10-30  Yes  \n",
      "2        30-60  Yes  \n",
      "3          >60   No  \n",
      "4        10-30  Yes  \n",
      "\n",
      "Dataset tail:\n",
      "   Alternate  Bar Fri/Sat Hungry Patrons Price Raining Reservation     Type  \\\n",
      "7         No  Yes      No     No     NaN     $     Yes          No  Italian   \n",
      "8        Yes  Yes     Yes    Yes    Some    $$      No          No   French   \n",
      "9        Yes  Yes     Yes    Yes    Full   $$$     Yes         Yes  Italian   \n",
      "10        No   No      No     No     NaN     $     Yes          No   Burger   \n",
      "11       Yes   No     Yes    Yes    Some    $$     Yes         Yes     Thai   \n",
      "\n",
      "   WaitEstimate Wait  \n",
      "7          0-10   No  \n",
      "8         10-30  Yes  \n",
      "9           >60   No  \n",
      "10         0-10   No  \n",
      "11        10-30  Yes  \n",
      "\n",
      "Dataset shape:\n",
      "(12, 11)\n",
      "\n",
      "Dataset info:\n",
      "<class 'pandas.core.frame.DataFrame'>\n",
      "RangeIndex: 12 entries, 0 to 11\n",
      "Data columns (total 11 columns):\n",
      " #   Column        Non-Null Count  Dtype \n",
      "---  ------        --------------  ----- \n",
      " 0   Alternate     12 non-null     object\n",
      " 1   Bar           12 non-null     object\n",
      " 2   Fri/Sat       12 non-null     object\n",
      " 3   Hungry        12 non-null     object\n",
      " 4   Patrons       9 non-null      object\n",
      " 5   Price         12 non-null     object\n",
      " 6   Raining       12 non-null     object\n",
      " 7   Reservation   12 non-null     object\n",
      " 8   Type          12 non-null     object\n",
      " 9   WaitEstimate  12 non-null     object\n",
      " 10  Wait          12 non-null     object\n",
      "dtypes: object(11)\n",
      "memory usage: 1.2+ KB\n",
      "None\n",
      "\n",
      "Null values in dataset:\n",
      "Alternate       0\n",
      "Bar             0\n",
      "Fri/Sat         0\n",
      "Hungry          0\n",
      "Patrons         3\n",
      "Price           0\n",
      "Raining         0\n",
      "Reservation     0\n",
      "Type            0\n",
      "WaitEstimate    0\n",
      "Wait            0\n",
      "dtype: int64\n"
     ]
    }
   ],
   "source": [
    "import pandas as pd\n",
    "\n",
    "# Define the column names manually\n",
    "column_names = ['Alternate', 'Bar', 'Fri/Sat', 'Hungry', 'Patrons', 'Price', 'Raining', 'Reservation', 'Type', 'WaitEstimate', 'Wait']\n",
    "\n",
    "# Provide the full path to the dataset\n",
    "file_path = r'restaurant.csv'\n",
    "\n",
    "# Load the dataset without a header\n",
    "data = pd.read_csv(file_path, header=None, names=column_names)\n",
    "\n",
    "print(\"First few rows of the dataset:\")\n",
    "print(data.head())\n",
    "print(\"\\nDataset tail:\")\n",
    "print(data.tail())\n",
    "print(\"\\nDataset shape:\")\n",
    "print(data.shape)\n",
    "print(\"\\nDataset info:\")\n",
    "print(data.info())\n",
    "print(\"\\nNull values in dataset:\")\n",
    "print(data.isnull().sum())\n"
   ]
  },
  {
   "cell_type": "code",
   "execution_count": 8,
   "id": "5a06b36d-4664-489d-ab1f-d8a035afaae4",
   "metadata": {},
   "outputs": [
    {
     "name": "stdout",
     "output_type": "stream",
     "text": [
      "\n",
      "Features (X):\n",
      "  Alternate  Bar Fri/Sat Hungry Patrons Price Raining Reservation     Type  \\\n",
      "0       Yes   No      No    Yes     NaN   $$$      No         Yes   French   \n",
      "1        No  Yes     Yes    Yes    Some     $      No          No     Thai   \n",
      "2       Yes   No      No     No    Full    $$     Yes         Yes   Burger   \n",
      "3       Yes   No     Yes    Yes    Full   $$$      No          No  Italian   \n",
      "4        No  Yes      No     No    Some     $     Yes         Yes   Burger   \n",
      "\n",
      "  WaitEstimate  \n",
      "0         0-10  \n",
      "1        10-30  \n",
      "2        30-60  \n",
      "3          >60  \n",
      "4        10-30  \n",
      "\n",
      "Target (y):\n",
      "0     No\n",
      "1    Yes\n",
      "2    Yes\n",
      "3     No\n",
      "4    Yes\n",
      "Name: Wait, dtype: object\n"
     ]
    }
   ],
   "source": [
    "# Assume 'Wait' is the target variable and all other columns are features\n",
    "target_variable = 'Wait'\n",
    "\n",
    "# Split the data into features (X) and target (y)\n",
    "X = data.drop(columns=[target_variable])\n",
    "y = data[target_variable]\n",
    "\n",
    "print(\"\\nFeatures (X):\")\n",
    "print(X.head())\n",
    "print(\"\\nTarget (y):\")\n",
    "print(y.head())\n"
   ]
  },
  {
   "cell_type": "code",
   "execution_count": 9,
   "id": "78c29dc2-3ed1-469a-a387-c2c9e0e749ca",
   "metadata": {},
   "outputs": [
    {
     "name": "stdout",
     "output_type": "stream",
     "text": [
      "\n",
      "X_train shape: (9, 10)\n",
      "X_test shape: (3, 10)\n",
      "y_train shape: (9,)\n",
      "y_test shape: (3,)\n"
     ]
    }
   ],
   "source": [
    "from sklearn.model_selection import train_test_split\n",
    "\n",
    "# Split the data into training and testing sets\n",
    "X_train, X_test, y_train, y_test = train_test_split(X, y, test_size=0.2, stratify=y, random_state=2)\n",
    "\n",
    "print(\"\\nX_train shape:\", X_train.shape)\n",
    "print(\"X_test shape:\", X_test.shape)\n",
    "print(\"y_train shape:\", y_train.shape)\n",
    "print(\"y_test shape:\", y_test.shape)\n"
   ]
  },
  {
   "cell_type": "code",
   "execution_count": 10,
   "id": "ec6cea53-fa4d-44df-ab36-eab7c0756738",
   "metadata": {},
   "outputs": [
    {
     "name": "stdout",
     "output_type": "stream",
     "text": [
      "\n",
      "Preprocessed Features (X):\n",
      "    0    1    2    3    4    5    6    7    8    9   ...   16   17   18   19  \\\n",
      "0  0.0  1.0  1.0  0.0  1.0  0.0  0.0  1.0  0.0  0.0  ...  0.0  1.0  0.0  1.0   \n",
      "1  1.0  0.0  0.0  1.0  0.0  1.0  0.0  1.0  0.0  1.0  ...  1.0  0.0  0.0  0.0   \n",
      "2  0.0  1.0  1.0  0.0  1.0  0.0  1.0  0.0  1.0  0.0  ...  0.0  1.0  1.0  0.0   \n",
      "3  0.0  1.0  1.0  0.0  0.0  1.0  0.0  1.0  1.0  0.0  ...  1.0  0.0  0.0  0.0   \n",
      "4  1.0  0.0  0.0  1.0  1.0  0.0  1.0  0.0  0.0  1.0  ...  0.0  1.0  1.0  0.0   \n",
      "\n",
      "    20   21   22   23   24   25  \n",
      "0  0.0  0.0  1.0  0.0  0.0  0.0  \n",
      "1  0.0  1.0  0.0  1.0  0.0  0.0  \n",
      "2  0.0  0.0  0.0  0.0  1.0  0.0  \n",
      "3  1.0  0.0  0.0  0.0  0.0  1.0  \n",
      "4  0.0  0.0  0.0  1.0  0.0  0.0  \n",
      "\n",
      "[5 rows x 26 columns]\n"
     ]
    }
   ],
   "source": [
    "from sklearn.preprocessing import OneHotEncoder\n",
    "from sklearn.compose import ColumnTransformer\n",
    "from sklearn.pipeline import Pipeline\n",
    "from sklearn.impute import SimpleImputer\n",
    "\n",
    "# Define categorical columns\n",
    "categorical_features = X.select_dtypes(include=['object']).columns\n",
    "\n",
    "# Create a ColumnTransformer for one-hot encoding categorical features\n",
    "preprocessor = ColumnTransformer(\n",
    "    transformers=[\n",
    "        ('cat', OneHotEncoder(), categorical_features)\n",
    "    ],\n",
    "    remainder='passthrough'\n",
    ")\n",
    "\n",
    "# Apply preprocessing\n",
    "X_preprocessed = preprocessor.fit_transform(X)\n",
    "\n",
    "print(\"\\nPreprocessed Features (X):\")\n",
    "print(pd.DataFrame(X_preprocessed).head())\n"
   ]
  },
  {
   "cell_type": "code",
   "execution_count": 11,
   "id": "8f04268c-c721-49db-b44f-36acbfa71abd",
   "metadata": {},
   "outputs": [
    {
     "name": "stdout",
     "output_type": "stream",
     "text": [
      "\n",
      "Training Data Accuracy: 100.0 %\n",
      "Test Data Accuracy: 100.0 %\n",
      "\n",
      "Confusion Matrix:\n",
      "[[2 0]\n",
      " [0 1]]\n"
     ]
    },
    {
     "data": {
      "image/png": "[encoded data removed]",
      "text/plain": [
       "<Figure size 640x480 with 2 Axes>"
      ]
     },
     "metadata": {},
     "output_type": "display_data"
    },
    {
     "name": "stdout",
     "output_type": "stream",
     "text": [
      "\n",
      "True Negatives: 2\n",
      "False Positives: 0\n",
      "False Negatives: 0\n",
      "True Positives: 1\n"
     ]
    }
   ],
   "source": [
    "from sklearn.linear_model import LogisticRegression\n",
    "from sklearn.metrics import accuracy_score, confusion_matrix\n",
    "import seaborn as sns\n",
    "import matplotlib.pyplot as plt\n",
    "\n",
    "# Split the preprocessed data into training and testing sets\n",
    "X_train, X_test, y_train, y_test = train_test_split(X_preprocessed, y, test_size=0.2, stratify=y, random_state=2)\n",
    "\n",
    "# Initialize and train the logistic regression model\n",
    "model = LogisticRegression(max_iter=1000)\n",
    "model.fit(X_train, y_train)\n",
    "\n",
    "# Make predictions\n",
    "y_train_pred = model.predict(X_train)\n",
    "y_test_pred = model.predict(X_test)\n",
    "\n",
    "# Calculate accurac y scores\n",
    "train_accuracy = accuracy_score(y_train, y_train_pred)\n",
    "test_accuracy = accuracy_score(y_test, y_test_pred)\n",
    "\n",
    "print(\"\\nTraining Data Accuracy:\", round(train_accuracy * 100, 2), \"%\")\n",
    "print(\"Test Data Accuracy:\", round(test_accuracy * 100, 2), \"%\")\n",
    "\n",
    "# Generate confusion matrix\n",
    "cf_matrix = confusion_matrix(y_test, y_test_pred)\n",
    "print(\"\\nConfusion Matrix:\")\n",
    "print(cf_matrix)\n",
    "\n",
    "# Plot confusion matrix\n",
    "sns.heatmap(cf_matrix, annot=True, fmt='d', cmap='Blues', xticklabels=['Not Wait', 'Wait'], yticklabels=['Not Wait', 'Wait'])\n",
    "plt.xlabel('Predicted')\n",
    "plt.ylabel('Actual')\n",
    "plt.title('Confusion Matrix')\n",
    "plt.show()\n",
    "\n",
    "# Extract metrics from the confusion matrix\n",
    "tn, fp, fn, tp = cf_matrix.ravel()\n",
    "print(f\"\\nTrue Negatives: {tn}\")\n",
    "print(f\"False Positives: {fp}\")\n",
    "print(f\"False Negatives: {fn}\")\n",
    "print(f\"True Positives: {tp}\")\n"
   ]
  },
  {
   "cell_type": "code",
   "execution_count": 12,
   "id": "dfa0d69a-ba77-4760-9106-189c2181e71f",
   "metadata": {},
   "outputs": [
    {
     "name": "stdout",
     "output_type": "stream",
     "text": [
      "\n",
      "True Negatives: 2\n",
      "False Positives: 0\n",
      "False Negatives: 0\n",
      "True Positives: 1\n"
     ]
    }
   ],
   "source": [
    "# Extract true negatives, false positives, false negatives, and true positives\n",
    "tn, fp, fn, tp = cf_matrix.ravel()\n",
    "print(f\"\\nTrue Negatives: {tn}\")\n",
    "print(f\"False Positives: {fp}\")\n",
    "print(f\"False Negatives: {fn}\")\n",
    "print(f\"True Positives: {tp}\")\n"
   ]
  },
  {
   "cell_type": "code",
   "execution_count": 13,
   "id": "b54e395c-f801-4fba-80c4-4b919158940f",
   "metadata": {},
   "outputs": [
    {
     "name": "stdout",
     "output_type": "stream",
     "text": [
      "Precision: 1.0\n",
      "Recall: 1.0\n",
      "F1-score: 1.0\n"
     ]
    }
   ],
   "source": [
    "TP = 1\n",
    "FP = 0\n",
    "FN = 0\n",
    "\n",
    "precision = TP / (TP + FP) if (TP + FP) != 0 else 0\n",
    "recall = TP / (TP + FN) if (TP + FN) != 0 else 0\n",
    "f1_score = 2 * (precision * recall) / (precision + recall) if (precision + recall) != 0 else 0\n",
    "\n",
    "print(f\"Precision: {precision}\")\n",
    "print(f\"Recall: {recall}\")\n",
    "print(f\"F1-score: {f1_score}\")\n"
   ]
  },
  {
   "cell_type": "code",
   "execution_count": null,
   "id": "aa4ca6d4-c06c-4b73-a054-e0a3bc71b811",
   "metadata": {},
   "outputs": [],
   "source": []
  },
  {
   "cell_type": "code",
   "execution_count": 14,
   "id": "21f8222b-d0fa-47d2-9324-f950da5eb6de",
   "metadata": {},
   "outputs": [
    {
     "name": "stdout",
     "output_type": "stream",
     "text": [
      "Accuracy: 1.0\n"
     ]
    }
   ],
   "source": [
    "TN = 2\n",
    "\n",
    "accuracy = (TP + TN) / (TP + TN + FP + FN) if (TP + TN + FP + FN) != 0 else 0\n",
    "\n",
    "print(f\"Accuracy: {accuracy}\")\n"
   ]
  },
  {
   "cell_type": "code",
   "execution_count": 15,
   "id": "083750b3-4916-4e92-aebd-7179814bb444",
   "metadata": {},
   "outputs": [
    {
     "ename": "NameError",
     "evalue": "name 'clf' is not defined",
     "output_type": "error",
     "traceback": [
      "\u001b[1;31m---------------------------------------------------------------------------\u001b[0m",
      "\u001b[1;31mNameError\u001b[0m                                 Traceback (most recent call last)",
      "Cell \u001b[1;32mIn[15], line 6\u001b[0m\n\u001b[0;32m      4\u001b[0m \u001b[38;5;66;03m# Plot the Decision Tree\u001b[39;00m\n\u001b[0;32m      5\u001b[0m plt\u001b[38;5;241m.\u001b[39mfigure(figsize\u001b[38;5;241m=\u001b[39m(\u001b[38;5;241m20\u001b[39m, \u001b[38;5;241m10\u001b[39m))\n\u001b[1;32m----> 6\u001b[0m plot_tree(\u001b[43mclf\u001b[49m, feature_names\u001b[38;5;241m=\u001b[39mX\u001b[38;5;241m.\u001b[39mcolumns, class_names\u001b[38;5;241m=\u001b[39m\u001b[38;5;28;01mTrue\u001b[39;00m, filled\u001b[38;5;241m=\u001b[39m\u001b[38;5;28;01mTrue\u001b[39;00m)\n\u001b[0;32m      7\u001b[0m plt\u001b[38;5;241m.\u001b[39mshow()\n",
      "\u001b[1;31mNameError\u001b[0m: name 'clf' is not defined"
     ]
    },
    {
     "data": {
      "text/plain": [
       "<Figure size 2000x1000 with 0 Axes>"
      ]
     },
     "metadata": {},
     "output_type": "display_data"
    }
   ],
   "source": [
    "import matplotlib.pyplot as plt\n",
    "from sklearn.tree import plot_tree\n",
    "\n",
    "# Plot the Decision Tree\n",
    "plt.figure(figsize=(20, 10))\n",
    "plot_tree(clf, feature_names=X.columns, class_names=True, filled=True)\n",
    "plt.show()\n"
   ]
  },
  {
   "cell_type": "code",
   "execution_count": null,
   "id": "fb62bfa7-3d3b-4b38-8ff4-e674151a09db",
   "metadata": {},
   "outputs": [],
   "source": []
  }
 ],
 "metadata": {
  "kernelspec": {
   "display_name": "Python 3 (ipykernel)",
   "language": "python",
   "name": "python3"
  },
  "language_info": {
   "codemirror_mode": {
    "name": "ipython",
    "version": 3
   },
   "file_extension": ".py",
   "mimetype": "text/x-python",
   "name": "python",
   "nbconvert_exporter": "python",
   "pygments_lexer": "ipython3",
   "version": "3.12.5"
  }
 },
 "nbformat": 4,
 "nbformat_minor": 5
}
